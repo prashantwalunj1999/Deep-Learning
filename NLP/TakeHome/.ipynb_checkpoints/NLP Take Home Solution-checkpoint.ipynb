{
 "cells": [
  {
   "cell_type": "markdown",
   "metadata": {},
   "source": [
    "# Part of Speech (POS) Tagging"
   ]
  },
  {
   "cell_type": "markdown",
   "metadata": {},
   "source": [
    "In this notebook, we will learn about part-of-speech tagging using the NLTK library and the brown corpus. Then we will check the text similarity in the corpus. This is not a full fledged project rather implementation of POS tagging concept on a corpus"
   ]
  },
  {
   "cell_type": "markdown",
   "metadata": {},
   "source": [
    "<a id='import_lib'></a>\n",
    "## 1. Import Libraries"
   ]
  },
  {
   "cell_type": "markdown",
   "metadata": {},
   "source": [
    "Let us start by importing the required libraries and downloading the corpus from the nltk library"
   ]
  },
  {
   "cell_type": "code",
   "execution_count": 1,
   "metadata": {},
   "outputs": [
    {
     "name": "stderr",
     "output_type": "stream",
     "text": [
      "[nltk_data] Downloading package brown to\n",
      "[nltk_data]     C:\\Users\\nilim\\AppData\\Roaming\\nltk_data...\n",
      "[nltk_data]   Package brown is already up-to-date!\n",
      "[nltk_data] Downloading package averaged_perceptron_tagger to\n",
      "[nltk_data]     C:\\Users\\nilim\\AppData\\Roaming\\nltk_data...\n",
      "[nltk_data]   Package averaged_perceptron_tagger is already up-to-\n",
      "[nltk_data]       date!\n"
     ]
    },
    {
     "data": {
      "text/plain": [
       "True"
      ]
     },
     "execution_count": 1,
     "metadata": {},
     "output_type": "execute_result"
    }
   ],
   "source": [
    "# Importing the natural languge tool kit\n",
    "import nltk\n",
    "\n",
    "# Downloading the brown corpus\n",
    "nltk.download('brown') \n",
    "\n",
    "# Downloading the tagger\n",
    "nltk.download('averaged_perceptron_tagger') "
   ]
  },
  {
   "cell_type": "markdown",
   "metadata": {},
   "source": [
    "## Q1. Consider the following three sentences. Tokenize and identify part of speech for each word in each sentence"
   ]
  },
  {
   "cell_type": "raw",
   "metadata": {},
   "source": [
    "Sentence 1: I came to Bangaluru to meet some awesome people.\n",
    "Sentence 2: Do you want to jump\n",
    "Sentence 3: That was a nice jump"
   ]
  },
  {
   "cell_type": "code",
   "execution_count": 2,
   "metadata": {
    "collapsed": true
   },
   "outputs": [],
   "source": [
    "# Let's take a sentence and tokenize it using the function word_tokenize()\n",
    "text = nltk.word_tokenize(\"I came to Bangaluru to meet some awesome people.\") "
   ]
  },
  {
   "cell_type": "code",
   "execution_count": 3,
   "metadata": {},
   "outputs": [
    {
     "data": {
      "text/plain": [
       "[('I', 'PRP'),\n",
       " ('came', 'VBD'),\n",
       " ('to', 'TO'),\n",
       " ('Bangaluru', 'NNP'),\n",
       " ('to', 'TO'),\n",
       " ('meet', 'VB'),\n",
       " ('some', 'DT'),\n",
       " ('awesome', 'JJ'),\n",
       " ('people', 'NNS'),\n",
       " ('.', '.')]"
      ]
     },
     "execution_count": 3,
     "metadata": {},
     "output_type": "execute_result"
    }
   ],
   "source": [
    "# After tokenizing the sentence we will perform POS tagging on the sentence \n",
    "nltk.pos_tag(text) "
   ]
  },
  {
   "cell_type": "code",
   "execution_count": 11,
   "metadata": {},
   "outputs": [
    {
     "data": {
      "text/plain": [
       "[('Do', 'VBP'), ('you', 'PRP'), ('want', 'VB'), ('to', 'TO'), ('jump', 'VB')]"
      ]
     },
     "execution_count": 11,
     "metadata": {},
     "output_type": "execute_result"
    }
   ],
   "source": [
    "# Identifying the part-of-speech of word 'jump' in a sentence\n",
    "nltk.pos_tag(nltk.word_tokenize(\"Do you want to jump\")) "
   ]
  },
  {
   "cell_type": "code",
   "execution_count": 12,
   "metadata": {},
   "outputs": [
    {
     "data": {
      "text/plain": [
       "[('That', 'DT'), ('was', 'VBD'), ('a', 'DT'), ('nice', 'JJ'), ('jump', 'NN')]"
      ]
     },
     "execution_count": 12,
     "metadata": {},
     "output_type": "execute_result"
    }
   ],
   "source": [
    "# Making the part-of-speech of word 'jump' as noun in the sentence and verify whether the function can identify correctly or not\n",
    "nltk.pos_tag(nltk.word_tokenize(\"That was a nice jump\")) "
   ]
  },
  {
   "cell_type": "markdown",
   "metadata": {},
   "source": [
    "## Text Similarity"
   ]
  },
  {
   "cell_type": "code",
   "execution_count": 4,
   "metadata": {
    "collapsed": true
   },
   "outputs": [],
   "source": [
    " # Converting all the words in the brown corpus to lower case\n",
    "text = nltk.Text(word.lower() for word in nltk.corpus.brown.words())"
   ]
  },
  {
   "cell_type": "markdown",
   "metadata": {},
   "source": [
    "## Q.2 Consider the 'brown' corpus (use the nltk library to download the courpus). Find words similar to a word 'kid' from the corpus"
   ]
  },
  {
   "cell_type": "code",
   "execution_count": 5,
   "metadata": {},
   "outputs": [
    {
     "name": "stdout",
     "output_type": "stream",
     "text": [
      "man other time house trial way place doctor world car city state one\n",
      "past children case family government south situation\n"
     ]
    }
   ],
   "source": [
    "# Let us now try to find a similar word to 'kid'\n",
    "# We can also specify how many similar words to generate in the similar function by using parameter 'num'\n",
    "text.similar('kid') \n",
    "\n",
    "# The output for this should be nouns like people such as 'man', 'children'\n",
    "# Here it has also found other nouns like'time', house' and so on"
   ]
  },
  {
   "cell_type": "markdown",
   "metadata": {},
   "source": [
    "<table align='left'>\n",
    "    <tr>\n",
    "        <td width='8%'>\n",
    "            <img src='infer.png'>\n",
    "        </td>\n",
    "        <td>\n",
    "            <div align='left', style='font-size:120%'>\n",
    "                <font color='#21618C'>\n",
    "                    <b> In order to find similar words, the trigrams are formed, so here the trigram would be formed with 'kid' as the middle word, then the function tries to find the same trigrams in the corpus with the middle word having the same context as 'kid' and then prints the noun from the context. <br></b>\n",
    "                </font>\n",
    "            </div>\n",
    "        </td>\n",
    "    </tr>\n",
    "</table>"
   ]
  },
  {
   "cell_type": "code",
   "execution_count": 6,
   "metadata": {},
   "outputs": [
    {
     "name": "stdout",
     "output_type": "stream",
     "text": [
      "man other time house trial\n"
     ]
    }
   ],
   "source": [
    "# If we want to generate only 5 similar words then we can use\n",
    "text.similar('kid', num = 5) \n",
    "\n",
    "# Here we can see that only 5 similar words are generated for the word 'kid' as compared to the previous output where 20 words were generated"
   ]
  },
  {
   "cell_type": "code",
   "execution_count": 7,
   "metadata": {},
   "outputs": [
    {
     "name": "stdout",
     "output_type": "stream",
     "text": [
      "get be do in see work go have take make put and find time look day say\n",
      "use come show\n"
     ]
    }
   ],
   "source": [
    "# Identifying similar words to 'run' which is a 'verb'\n",
    "text.similar('run') "
   ]
  },
  {
   "cell_type": "code",
   "execution_count": 8,
   "metadata": {},
   "outputs": [
    {
     "name": "stdout",
     "output_type": "stream",
     "text": [
      "in of to and for at with from by as that is into but when was over\n",
      "about all through\n"
     ]
    }
   ],
   "source": [
    "# Identifying similar words which are prepositions\n",
    "text.similar('on') \n",
    "# Add concordance function and demonstrate it"
   ]
  },
  {
   "cell_type": "code",
   "execution_count": 9,
   "metadata": {},
   "outputs": [
    {
     "name": "stdout",
     "output_type": "stream",
     "text": [
      "and available second wonderful glass moment window formidable wicked\n"
     ]
    }
   ],
   "source": [
    "# Since 'cricket' has 2 meanings- game or insect\n",
    "text.similar('cricket') \n",
    "\n",
    "# The output doesn't have any words which are related to the cricket game or cricket insect\n",
    "# This might happen because cricket doesn't occur much in the brown corpus so a better substitute could not be found"
   ]
  },
  {
   "cell_type": "markdown",
   "metadata": {},
   "source": [
    "## Q.3 Consider the 'gutenberg' corpus (use the nltk library to download the courpus). Print all those sentences in which the word 'kid' occurs"
   ]
  },
  {
   "cell_type": "code",
   "execution_count": 25,
   "metadata": {},
   "outputs": [
    {
     "name": "stdout",
     "output_type": "stream",
     "text": [
      "showing info https://raw.githubusercontent.com/nltk/nltk_data/gh-pages/index.xml\n",
      "Displaying 30 of 61 matches:\n",
      "rly days when the kid wanted to pop his\n",
      "ote . `` see that kid '' ? ? he said , \n",
      "eal low , and the kid walks over to me \n",
      ". `` when i was a kid '' , maris told a\n",
      " cockpit . `` the kid had a automatic ,\n",
      "get the minutes . kid ory , the trombon\n",
      "probably has more kid appeal than any o\n",
      "n brown soap on a kid bandage overnight\n",
      "t of the world `` kid '' . lou gehrig w\n",
      "y , badly dressed kid whose arms were t\n",
      "hing ( taking the kid downtown is too m\n",
      "base . a new york kid , a refugee from \n",
      "ated the pedersen kid too , dying in ou\n",
      "bout the pedersen kid . he'd not care a\n",
      "ky to a slit of a kid and maybe lose on\n",
      " and the pedersen kid was in the kitche\n",
      "g of the pedersen kid mother-naked in a\n",
      "ound the pedersen kid by the crib '' . \n",
      "it's the pedersen kid . the kid '' . ``\n",
      "edersen kid . the kid '' . `` nothing t\n",
      "pa . the pedersen kid . the kid '' -- `\n",
      "edersen kid . the kid '' -- `` i goddam\n",
      "s had run off the kid to the table wher\n",
      "ie . you want the kid to die ? ? do you\n",
      "'t care about the kid '' . `` jorge '' \n",
      " . not pedersen's kid neither . that co\n",
      "at cock . not the kid neither '' . `` i\n",
      ". hans rubbed the kid with more snow ru\n",
      "t this half-grown kid . if he bothers y\n",
      "ere when he was a kid '' ? ? linda kay \n"
     ]
    }
   ],
   "source": [
    "# Let us now look at the concordance function in nltk\n",
    "import nltk\n",
    "\n",
    "# Download the gutenberg corpora from the dialog-box \n",
    "nltk.download()\n",
    "\n",
    "# Using the concordance function\n",
    "# The concordance function will show us all the sentences in the corpus in which the word 'kid' occurs\n",
    "# The function has 3 parameters:\n",
    "# word- target word for which we have to find the concordance, width- width of each line(in characters), and lines- number of lines to display (default=25)\n",
    "text.concordance('kid', width = 40, lines = 30)\n",
    "\n",
    "# In the output we can see 30 sentences in which the word 'kid' occurs"
   ]
  }
 ],
 "metadata": {
  "kernelspec": {
   "display_name": "Python 3 (ipykernel)",
   "language": "python",
   "name": "python3"
  },
  "language_info": {
   "codemirror_mode": {
    "name": "ipython",
    "version": 3
   },
   "file_extension": ".py",
   "mimetype": "text/x-python",
   "name": "python",
   "nbconvert_exporter": "python",
   "pygments_lexer": "ipython3",
   "version": "3.9.12"
  }
 },
 "nbformat": 4,
 "nbformat_minor": 2
}
